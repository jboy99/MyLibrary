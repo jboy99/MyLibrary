{
 "cells": [
  {
   "cell_type": "markdown",
   "metadata": {},
   "source": [
    "  # Daily Trip Analysis"
   ]
  },
  {
   "cell_type": "code",
   "execution_count": null,
   "metadata": {},
   "outputs": [],
   "source": [
    "import numpy as np\n",
    "import pandas as pd\n",
    "import seaborn as sns"
   ]
  },
  {
   "cell_type": "code",
   "execution_count": 2,
   "metadata": {},
   "outputs": [],
   "source": [
    "data = pd.read_excel('Data Analyst Recruitment Test.xlsx')"
   ]
  },
  {
   "cell_type": "code",
   "execution_count": 14,
   "metadata": {},
   "outputs": [
    {
     "data": {
      "text/plain": [
       "(2564, 12)"
      ]
     },
     "execution_count": 14,
     "metadata": {},
     "output_type": "execute_result"
    }
   ],
   "source": [
    "data.shape"
   ]
  },
  {
   "cell_type": "markdown",
   "metadata": {},
   "source": [
    "1. As can be seen above, the excel file has 2564 rows and 12 columns\n",
    "2. Below, we will take a look at the first two rows to see what our data looks like"
   ]
  },
  {
   "cell_type": "code",
   "execution_count": 4,
   "metadata": {},
   "outputs": [
    {
     "data": {
      "text/html": [
       "<div>\n",
       "<style scoped>\n",
       "    .dataframe tbody tr th:only-of-type {\n",
       "        vertical-align: middle;\n",
       "    }\n",
       "\n",
       "    .dataframe tbody tr th {\n",
       "        vertical-align: top;\n",
       "    }\n",
       "\n",
       "    .dataframe thead th {\n",
       "        text-align: right;\n",
       "    }\n",
       "</style>\n",
       "<table border=\"1\" class=\"dataframe\">\n",
       "  <thead>\n",
       "    <tr style=\"text-align: right;\">\n",
       "      <th></th>\n",
       "      <th>trip_id</th>\n",
       "      <th>date</th>\n",
       "      <th>Hour</th>\n",
       "      <th>passenger_id</th>\n",
       "      <th>driver_name</th>\n",
       "      <th>driver_sb_number</th>\n",
       "      <th>pickup_address</th>\n",
       "      <th>drop_off_address</th>\n",
       "      <th>trip_rating</th>\n",
       "      <th>current_state</th>\n",
       "      <th>parish</th>\n",
       "      <th>device_os</th>\n",
       "    </tr>\n",
       "  </thead>\n",
       "  <tbody>\n",
       "    <tr>\n",
       "      <td>0</td>\n",
       "      <td>(262310608739870152)</td>\n",
       "      <td>2017-12-07 00:00:00</td>\n",
       "      <td>23.0</td>\n",
       "      <td>(239162051910475950)</td>\n",
       "      <td>NaN</td>\n",
       "      <td>NaN</td>\n",
       "      <td>Lugogo Stadium Complex</td>\n",
       "      <td>Lana Road</td>\n",
       "      <td>NaN</td>\n",
       "      <td>manualdispatchacknowledged</td>\n",
       "      <td>KOLOLO IV</td>\n",
       "      <td>Android</td>\n",
       "    </tr>\n",
       "    <tr>\n",
       "      <td>1</td>\n",
       "      <td>(262310526392931662)</td>\n",
       "      <td>2017-12-07 00:00:00</td>\n",
       "      <td>23.0</td>\n",
       "      <td>(239162051910475950)</td>\n",
       "      <td>NaN</td>\n",
       "      <td>NaN</td>\n",
       "      <td>Lugogo Stadium Complex</td>\n",
       "      <td>Lana Road</td>\n",
       "      <td>NaN</td>\n",
       "      <td>manualdispatchacknowledged</td>\n",
       "      <td>KOLOLO IV</td>\n",
       "      <td>Android</td>\n",
       "    </tr>\n",
       "  </tbody>\n",
       "</table>\n",
       "</div>"
      ],
      "text/plain": [
       "                trip_id                 date  Hour          passenger_id  \\\n",
       "0  (262310608739870152)  2017-12-07 00:00:00  23.0  (239162051910475950)   \n",
       "1  (262310526392931662)  2017-12-07 00:00:00  23.0  (239162051910475950)   \n",
       "\n",
       "  driver_name  driver_sb_number          pickup_address drop_off_address  \\\n",
       "0         NaN               NaN  Lugogo Stadium Complex        Lana Road   \n",
       "1         NaN               NaN  Lugogo Stadium Complex        Lana Road   \n",
       "\n",
       "   trip_rating               current_state     parish device_os  \n",
       "0          NaN  manualdispatchacknowledged  KOLOLO IV   Android  \n",
       "1          NaN  manualdispatchacknowledged  KOLOLO IV   Android  "
      ]
     },
     "execution_count": 4,
     "metadata": {},
     "output_type": "execute_result"
    }
   ],
   "source": [
    "data.head(2)"
   ]
  },
  {
   "cell_type": "code",
   "execution_count": 15,
   "metadata": {},
   "outputs": [
    {
     "data": {
      "text/plain": [
       "dropped off                   1280\n",
       "manualdispatchacknowledged     934\n",
       "passengercancelled             341\n",
       "manualdispatch                   5\n",
       "accepted                         2\n",
       "arrived                          1\n",
       "pickedup                         1\n",
       "Name: current_state, dtype: int64"
      ]
     },
     "execution_count": 15,
     "metadata": {},
     "output_type": "execute_result"
    }
   ],
   "source": [
    "data_1 = data['current_state'].value_counts()\n",
    "data_1"
   ]
  },
  {
   "cell_type": "code",
   "execution_count": 6,
   "metadata": {},
   "outputs": [
    {
     "data": {
      "text/plain": [
       "Android    2226\n",
       "iOS         338\n",
       "Name: device_os, dtype: int64"
      ]
     },
     "execution_count": 6,
     "metadata": {},
     "output_type": "execute_result"
    }
   ],
   "source": [
    "data_2 = data['device_os'].value_counts()\n",
    "data_2"
   ]
  },
  {
   "cell_type": "markdown",
   "metadata": {},
   "source": [
    "* Now we calculate completed trips by device type"
   ]
  },
  {
   "cell_type": "code",
   "execution_count": 11,
   "metadata": {
    "scrolled": true
   },
   "outputs": [
    {
     "data": {
      "image/png": "[encoded data removed]",
      "text/plain": [
       "<Figure size 432x288 with 1 Axes>"
      ]
     },
     "metadata": {
      "needs_background": "light"
     },
     "output_type": "display_data"
    }
   ],
   "source": [
    "status_group = data.groupby('current_state')\n",
    "Droppedoff = status_group.get_group('dropped off')\n",
    "g = sns.countplot(x='device_os', hue = 'current_state', data=Droppedoff)"
   ]
  },
  {
   "cell_type": "markdown",
   "metadata": {},
   "source": [
    "* Next we analyse to see hour of most completed trips"
   ]
  },
  {
   "cell_type": "code",
   "execution_count": 12,
   "metadata": {},
   "outputs": [
    {
     "data": {
      "image/png": "[encoded data removed]",
      "text/plain": [
       "<Figure size 432x288 with 1 Axes>"
      ]
     },
     "metadata": {
      "needs_background": "light"
     },
     "output_type": "display_data"
    }
   ],
   "source": [
    "g = sns.countplot(x='Hour', hue = 'current_state', data=Droppedoff)"
   ]
  },
  {
   "cell_type": "markdown",
   "metadata": {},
   "source": [
    "* Then we evaluate hour of most passenger cancelled trips"
   ]
  },
  {
   "cell_type": "code",
   "execution_count": 13,
   "metadata": {},
   "outputs": [
    {
     "data": {
      "image/png": "[encoded data removed]",
      "text/plain": [
       "<Figure size 432x288 with 1 Axes>"
      ]
     },
     "metadata": {
      "needs_background": "light"
     },
     "output_type": "display_data"
    }
   ],
   "source": [
    "status_group = data.groupby('current_state')\n",
    "Pcancel = status_group.get_group('passengercancelled')\n",
    "g = sns.countplot(x='Hour', hue = 'current_state', data=Pcancel)"
   ]
  },
  {
   "cell_type": "code",
   "execution_count": null,
   "metadata": {},
   "outputs": [],
   "source": []
  }
 ],
 "metadata": {
  "kernelspec": {
   "display_name": "Python 3",
   "language": "python",
   "name": "python3"
  },
  "language_info": {
   "codemirror_mode": {
    "name": "ipython",
    "version": 3
   },
   "file_extension": ".py",
   "mimetype": "text/x-python",
   "name": "python",
   "nbconvert_exporter": "python",
   "pygments_lexer": "ipython3",
   "version": "3.7.4"
  }
 },
 "nbformat": 4,
 "nbformat_minor": 2
}
